{
 "cells": [
  {
   "cell_type": "code",
   "execution_count": 1,
   "metadata": {},
   "outputs": [],
   "source": [
    "import numpy as np\n",
    "import subprocess\n",
    "import pandas as pd\n",
    "import matplotlib.pyplot as plt\n",
    "\n",
    "def read_timings():\n",
    "    tdict = {}\n",
    "    tsumdict = {}\n",
    "    with open(\"timings.dat\", \"r\") as f:\n",
    "        lines = f.readlines()\n",
    "        names = []\n",
    "        vals = []\n",
    "        for line in  lines:\n",
    "            toks = line.split()\n",
    "            tdict[toks[0]] = float(toks[1])\n",
    "            tsumdict[toks[0]] = float(toks[2])\n",
    "    return tdict,tsumdict\n"
   ]
  },
  {
   "cell_type": "code",
   "execution_count": null,
   "metadata": {},
   "outputs": [],
   "source": [
    "df_per_result = pd.DataFrame()\n",
    "df_total_time = pd.DataFrame()\n",
    "xval = [1024 ,2048,4096,8192,16384,32768,65536] \n",
    "\n",
    "for v in xval:\n",
    "    subprocess.call(\"python generate_coords.py {}\".format(v), shell=True)\n",
    "    subprocess.call(\"./build/timings data.txt 100000\", shell=True)\n",
    "    tdict_v, tsumdict_v = read_timings()\n",
    "    df_per_result = df_per_result.append(tdict_v,ignore_index=True)\n",
    "    df_total_time = df_total_time.append(tsumdict_v,ignore_index=True)\n",
    "    subprocess.call(\"rm timings.dat\", shell=True)"
   ]
  },
  {
   "cell_type": "code",
   "execution_count": null,
   "metadata": {},
   "outputs": [],
   "source": [
    "index = {}\n",
    "names = list(tdict_v.keys())\n",
    "for i in range(len(xval)):\n",
    "    index[i] = xval[i]\n",
    "\n",
    "df_per_result = df_per_result.rename(index=index)\n",
    "print(df_per_result)\n",
    "df_total_time = df_total_time.rename(index=index)\n",
    "print(df_per_result)\n"
   ]
  },
  {
   "cell_type": "code",
   "execution_count": null,
   "metadata": {},
   "outputs": [],
   "source": [
    "fig, axes = plt.subplots(ncols=2)\n",
    "df_per_result.plot(ax=axes[0])\n",
    "df_total_time.plot(ax=axes[1])\n",
    "axes[0].set_xlabel(\"coordinates\")\n",
    "axes[0].set_ylabel(\"time per result (1e-8 s)\")\n",
    "axes[0].set_ylim(0.01*1e-8, 3*1e-8)\n",
    "axes[1].set_xlabel(\"coordinates\")\n",
    "axes[1].set_ylabel(\"cumulative time (s)\")\n",
    "axes[1].set_ylim(0, 60)\n",
    "fig.tight_layout()"
   ]
  },
  {
   "cell_type": "code",
   "execution_count": null,
   "metadata": {},
   "outputs": [],
   "source": [
    "fig.savefig(\"PLOT_mavx2_O3_ffast_math_fno_matherrno_mfma.png\")"
   ]
  },
  {
   "cell_type": "code",
   "execution_count": null,
   "metadata": {},
   "outputs": [],
   "source": []
  }
 ],
 "metadata": {
  "kernelspec": {
   "display_name": "Python 3",
   "language": "python",
   "name": "python3"
  },
  "language_info": {
   "codemirror_mode": {
    "name": "ipython",
    "version": 3
   },
   "file_extension": ".py",
   "mimetype": "text/x-python",
   "name": "python",
   "nbconvert_exporter": "python",
   "pygments_lexer": "ipython3",
   "version": "3.7.6"
  }
 },
 "nbformat": 4,
 "nbformat_minor": 4
}
